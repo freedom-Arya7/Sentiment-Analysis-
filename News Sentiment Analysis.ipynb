{
 "cells": [
  {
   "cell_type": "markdown",
   "metadata": {},
   "source": [
    "# News Sentiment Analysis"
   ]
  },
  {
   "cell_type": "markdown",
   "metadata": {},
   "source": [
    "## Step 1: Import important packages"
   ]
  },
  {
   "cell_type": "code",
   "execution_count": 1,
   "metadata": {},
   "outputs": [],
   "source": [
    "import pandas as pd\n",
    "import numpy as np\n",
    "from textblob import TextBlob\n",
    "import matplotlib.pyplot as plt"
   ]
  },
  {
   "cell_type": "markdown",
   "metadata": {},
   "source": [
    "## Step 2: Load the Dataset"
   ]
  },
  {
   "cell_type": "code",
   "execution_count": 2,
   "metadata": {},
   "outputs": [
    {
     "data": {
      "text/plain": [
       "Index(['link', 'headline', 'description', 'html', 'year', 'author', 'source'], dtype='object')"
      ]
     },
     "execution_count": 2,
     "metadata": {},
     "output_type": "execute_result"
    }
   ],
   "source": [
    "df = pd.read_csv('crypto_news.csv')\n",
    "df.columns"
   ]
  },
  {
   "cell_type": "code",
   "execution_count": 3,
   "metadata": {},
   "outputs": [],
   "source": [
    "features = ['link','headline','description','year']\n",
    "df = df[features]"
   ]
  },
  {
   "cell_type": "markdown",
   "metadata": {},
   "source": [
    "## Step 3: Create a function to get polarity"
   ]
  },
  {
   "cell_type": "code",
   "execution_count": 4,
   "metadata": {},
   "outputs": [
    {
     "data": {
      "text/html": [
       "<div>\n",
       "<style scoped>\n",
       "    .dataframe tbody tr th:only-of-type {\n",
       "        vertical-align: middle;\n",
       "    }\n",
       "\n",
       "    .dataframe tbody tr th {\n",
       "        vertical-align: top;\n",
       "    }\n",
       "\n",
       "    .dataframe thead th {\n",
       "        text-align: right;\n",
       "    }\n",
       "</style>\n",
       "<table border=\"1\" class=\"dataframe\">\n",
       "  <thead>\n",
       "    <tr style=\"text-align: right;\">\n",
       "      <th></th>\n",
       "      <th>link</th>\n",
       "      <th>headline</th>\n",
       "      <th>description</th>\n",
       "      <th>year</th>\n",
       "      <th>Polarity</th>\n",
       "    </tr>\n",
       "  </thead>\n",
       "  <tbody>\n",
       "    <tr>\n",
       "      <th>0</th>\n",
       "      <td>https://www.ccn.com/bitcoin-price-update-will-...</td>\n",
       "      <td>Bitcoin Price Update: Will China Lead us Down?</td>\n",
       "      <td>Bitcoin Priced in USD on Mt. GoxAbove is Gox p...</td>\n",
       "      <td>2013</td>\n",
       "      <td>-0.155556</td>\n",
       "    </tr>\n",
       "    <tr>\n",
       "      <th>1</th>\n",
       "      <td>https://www.ccn.com/key-bitcoin-price-levels-w...</td>\n",
       "      <td>Key Bitcoin Price Levels for Week 51 (15 – 22 ...</td>\n",
       "      <td>The Bitcoin price up to 2013/12/14, with Fib l...</td>\n",
       "      <td>2013</td>\n",
       "      <td>0.000000</td>\n",
       "    </tr>\n",
       "    <tr>\n",
       "      <th>2</th>\n",
       "      <td>https://www.ccn.com/national-australia-bank-ci...</td>\n",
       "      <td>National Australia Bank, Citing Highly Flawed ...</td>\n",
       "      <td>National Australia Bank looms over Melbourne’s...</td>\n",
       "      <td>2013</td>\n",
       "      <td>-0.500000</td>\n",
       "    </tr>\n",
       "    <tr>\n",
       "      <th>3</th>\n",
       "      <td>https://www.ccn.com/chinese-banking-ban-bitcoi...</td>\n",
       "      <td>Chinese Bitcoin Ban Driven by  Chinese Banking...</td>\n",
       "      <td>Recent reports from China indicate there may b...</td>\n",
       "      <td>2013</td>\n",
       "      <td>0.000000</td>\n",
       "    </tr>\n",
       "    <tr>\n",
       "      <th>4</th>\n",
       "      <td>https://www.ccn.com/bitcoin-trade-update-opene...</td>\n",
       "      <td>Bitcoin Trade Update: Opened Position</td>\n",
       "      <td>Opened 1st Bitcoin trade position, price curre...</td>\n",
       "      <td>2013</td>\n",
       "      <td>0.000000</td>\n",
       "    </tr>\n",
       "  </tbody>\n",
       "</table>\n",
       "</div>"
      ],
      "text/plain": [
       "                                                link  \\\n",
       "0  https://www.ccn.com/bitcoin-price-update-will-...   \n",
       "1  https://www.ccn.com/key-bitcoin-price-levels-w...   \n",
       "2  https://www.ccn.com/national-australia-bank-ci...   \n",
       "3  https://www.ccn.com/chinese-banking-ban-bitcoi...   \n",
       "4  https://www.ccn.com/bitcoin-trade-update-opene...   \n",
       "\n",
       "                                            headline  \\\n",
       "0     Bitcoin Price Update: Will China Lead us Down?   \n",
       "1  Key Bitcoin Price Levels for Week 51 (15 – 22 ...   \n",
       "2  National Australia Bank, Citing Highly Flawed ...   \n",
       "3  Chinese Bitcoin Ban Driven by  Chinese Banking...   \n",
       "4              Bitcoin Trade Update: Opened Position   \n",
       "\n",
       "                                         description  year  Polarity  \n",
       "0  Bitcoin Priced in USD on Mt. GoxAbove is Gox p...  2013 -0.155556  \n",
       "1  The Bitcoin price up to 2013/12/14, with Fib l...  2013  0.000000  \n",
       "2  National Australia Bank looms over Melbourne’s...  2013 -0.500000  \n",
       "3  Recent reports from China indicate there may b...  2013  0.000000  \n",
       "4  Opened 1st Bitcoin trade position, price curre...  2013  0.000000  "
      ]
     },
     "execution_count": 4,
     "metadata": {},
     "output_type": "execute_result"
    }
   ],
   "source": [
    "def getPolarity(text):\n",
    "    return TextBlob(text).sentiment.polarity\n",
    "\n",
    "df['Polarity'] = df['headline'].apply(getPolarity)\n",
    "df.head(5)"
   ]
  },
  {
   "cell_type": "markdown",
   "metadata": {},
   "source": [
    "## Step 4: Create a function to compute Positive, Negative and Neutral Sentiments"
   ]
  },
  {
   "cell_type": "code",
   "execution_count": 5,
   "metadata": {},
   "outputs": [
    {
     "data": {
      "text/html": [
       "<div>\n",
       "<style scoped>\n",
       "    .dataframe tbody tr th:only-of-type {\n",
       "        vertical-align: middle;\n",
       "    }\n",
       "\n",
       "    .dataframe tbody tr th {\n",
       "        vertical-align: top;\n",
       "    }\n",
       "\n",
       "    .dataframe thead th {\n",
       "        text-align: right;\n",
       "    }\n",
       "</style>\n",
       "<table border=\"1\" class=\"dataframe\">\n",
       "  <thead>\n",
       "    <tr style=\"text-align: right;\">\n",
       "      <th></th>\n",
       "      <th>link</th>\n",
       "      <th>headline</th>\n",
       "      <th>description</th>\n",
       "      <th>year</th>\n",
       "      <th>Polarity</th>\n",
       "      <th>Sentiment</th>\n",
       "    </tr>\n",
       "  </thead>\n",
       "  <tbody>\n",
       "    <tr>\n",
       "      <th>0</th>\n",
       "      <td>https://www.ccn.com/bitcoin-price-update-will-...</td>\n",
       "      <td>Bitcoin Price Update: Will China Lead us Down?</td>\n",
       "      <td>Bitcoin Priced in USD on Mt. GoxAbove is Gox p...</td>\n",
       "      <td>2013</td>\n",
       "      <td>-0.155556</td>\n",
       "      <td>Negative</td>\n",
       "    </tr>\n",
       "    <tr>\n",
       "      <th>1</th>\n",
       "      <td>https://www.ccn.com/key-bitcoin-price-levels-w...</td>\n",
       "      <td>Key Bitcoin Price Levels for Week 51 (15 – 22 ...</td>\n",
       "      <td>The Bitcoin price up to 2013/12/14, with Fib l...</td>\n",
       "      <td>2013</td>\n",
       "      <td>0.000000</td>\n",
       "      <td>Neutral</td>\n",
       "    </tr>\n",
       "    <tr>\n",
       "      <th>2</th>\n",
       "      <td>https://www.ccn.com/national-australia-bank-ci...</td>\n",
       "      <td>National Australia Bank, Citing Highly Flawed ...</td>\n",
       "      <td>National Australia Bank looms over Melbourne’s...</td>\n",
       "      <td>2013</td>\n",
       "      <td>-0.500000</td>\n",
       "      <td>Negative</td>\n",
       "    </tr>\n",
       "    <tr>\n",
       "      <th>3</th>\n",
       "      <td>https://www.ccn.com/chinese-banking-ban-bitcoi...</td>\n",
       "      <td>Chinese Bitcoin Ban Driven by  Chinese Banking...</td>\n",
       "      <td>Recent reports from China indicate there may b...</td>\n",
       "      <td>2013</td>\n",
       "      <td>0.000000</td>\n",
       "      <td>Neutral</td>\n",
       "    </tr>\n",
       "    <tr>\n",
       "      <th>4</th>\n",
       "      <td>https://www.ccn.com/bitcoin-trade-update-opene...</td>\n",
       "      <td>Bitcoin Trade Update: Opened Position</td>\n",
       "      <td>Opened 1st Bitcoin trade position, price curre...</td>\n",
       "      <td>2013</td>\n",
       "      <td>0.000000</td>\n",
       "      <td>Neutral</td>\n",
       "    </tr>\n",
       "  </tbody>\n",
       "</table>\n",
       "</div>"
      ],
      "text/plain": [
       "                                                link  \\\n",
       "0  https://www.ccn.com/bitcoin-price-update-will-...   \n",
       "1  https://www.ccn.com/key-bitcoin-price-levels-w...   \n",
       "2  https://www.ccn.com/national-australia-bank-ci...   \n",
       "3  https://www.ccn.com/chinese-banking-ban-bitcoi...   \n",
       "4  https://www.ccn.com/bitcoin-trade-update-opene...   \n",
       "\n",
       "                                            headline  \\\n",
       "0     Bitcoin Price Update: Will China Lead us Down?   \n",
       "1  Key Bitcoin Price Levels for Week 51 (15 – 22 ...   \n",
       "2  National Australia Bank, Citing Highly Flawed ...   \n",
       "3  Chinese Bitcoin Ban Driven by  Chinese Banking...   \n",
       "4              Bitcoin Trade Update: Opened Position   \n",
       "\n",
       "                                         description  year  Polarity Sentiment  \n",
       "0  Bitcoin Priced in USD on Mt. GoxAbove is Gox p...  2013 -0.155556  Negative  \n",
       "1  The Bitcoin price up to 2013/12/14, with Fib l...  2013  0.000000   Neutral  \n",
       "2  National Australia Bank looms over Melbourne’s...  2013 -0.500000  Negative  \n",
       "3  Recent reports from China indicate there may b...  2013  0.000000   Neutral  \n",
       "4  Opened 1st Bitcoin trade position, price curre...  2013  0.000000   Neutral  "
      ]
     },
     "execution_count": 5,
     "metadata": {},
     "output_type": "execute_result"
    }
   ],
   "source": [
    "def getSentiment(score):\n",
    "    if score < 0:\n",
    "        return 'Negative'\n",
    "    elif score == 0:\n",
    "        return 'Neutral'\n",
    "    else: return 'Positive'\n",
    "\n",
    "df['Sentiment'] = df['Polarity'].apply(getSentiment)\n",
    "df.head(5)"
   ]
  },
  {
   "cell_type": "markdown",
   "metadata": {},
   "source": [
    "## Step 5: Plot a bar graph"
   ]
  },
  {
   "cell_type": "code",
   "execution_count": 6,
   "metadata": {},
   "outputs": [
    {
     "data": {
      "image/png": "[encoded data removed]",
      "text/plain": [
       "<Figure size 432x288 with 1 Axes>"
      ]
     },
     "metadata": {
      "needs_background": "light"
     },
     "output_type": "display_data"
    }
   ],
   "source": [
    "plt.title('Sentiment Analysis PLot')\n",
    "df['Sentiment'].value_counts().plot(kind='bar')\n",
    "plt.xlabel('Sentiments')\n",
    "plt.ylabel('Counts')\n",
    "plt.show()"
   ]
  },
  {
   "cell_type": "markdown",
   "metadata": {},
   "source": [
    "## Step 6: Plot the Sum of the polarity for each year\n"
   ]
  },
  {
   "cell_type": "code",
   "execution_count": 7,
   "metadata": {},
   "outputs": [
    {
     "data": {
      "text/plain": [
       "[<matplotlib.lines.Line2D at 0x2079af51430>]"
      ]
     },
     "execution_count": 7,
     "metadata": {},
     "output_type": "execute_result"
    },
    {
     "data": {
      "image/png": "[encoded data removed]",
      "text/plain": [
       "<Figure size 887.76x324 with 1 Axes>"
      ]
     },
     "metadata": {
      "needs_background": "light"
     },
     "output_type": "display_data"
    }
   ],
   "source": [
    "plt.figure(figsize = (12.33, 4.5))\n",
    "plt.title('Sentiment Sum over Time')\n",
    "polarity = df.groupby(['year']).sum()['Polarity']\n",
    "plt.plot(polarity.index, polarity)"
   ]
  },
  {
   "cell_type": "code",
   "execution_count": 8,
   "metadata": {},
   "outputs": [
    {
     "data": {
      "text/plain": [
       "year\n",
       "2013     22.947175\n",
       "2014    245.015726\n",
       "2015    141.357692\n",
       "2016    249.616311\n",
       "2017    360.032574\n",
       "Name: Polarity, dtype: float64"
      ]
     },
     "execution_count": 8,
     "metadata": {},
     "output_type": "execute_result"
    }
   ],
   "source": [
    "polarity"
   ]
  },
  {
   "cell_type": "code",
   "execution_count": 9,
   "metadata": {},
   "outputs": [
    {
     "data": {
      "text/plain": [
       "year\n",
       "2013      699\n",
       "2014     5353\n",
       "2015     4713\n",
       "2016     6725\n",
       "2017    10579\n",
       "Name: Polarity, dtype: int64"
      ]
     },
     "execution_count": 9,
     "metadata": {},
     "output_type": "execute_result"
    }
   ],
   "source": [
    "polarity_count = df.groupby(['year']).count()['Polarity']\n",
    "polarity_count"
   ]
  },
  {
   "cell_type": "code",
   "execution_count": 10,
   "metadata": {},
   "outputs": [
    {
     "data": {
      "text/plain": [
       "year\n",
       "2013    0.032829\n",
       "2014    0.045772\n",
       "2015    0.029993\n",
       "2016    0.037118\n",
       "2017    0.034033\n",
       "Name: Polarity, dtype: float64"
      ]
     },
     "execution_count": 10,
     "metadata": {},
     "output_type": "execute_result"
    }
   ],
   "source": [
    "polarity_average = polarity / polarity_count\n",
    "polarity_average"
   ]
  },
  {
   "cell_type": "code",
   "execution_count": 11,
   "metadata": {},
   "outputs": [
    {
     "data": {
      "text/plain": [
       "[<matplotlib.lines.Line2D at 0x2079afe1370>]"
      ]
     },
     "execution_count": 11,
     "metadata": {},
     "output_type": "execute_result"
    },
    {
     "data": {
      "image/png": "[encoded data removed]",
      "text/plain": [
       "<Figure size 887.76x324 with 1 Axes>"
      ]
     },
     "metadata": {
      "needs_background": "light"
     },
     "output_type": "display_data"
    }
   ],
   "source": [
    "plt.figure(figsize = (12.33, 4.5))\n",
    "plt.title('Sentiment Average over Time')\n",
    "plt.plot(polarity_average.index, polarity_average)"
   ]
  },
  {
   "cell_type": "code",
   "execution_count": null,
   "metadata": {},
   "outputs": [],
   "source": []
  }
 ],
 "metadata": {
  "kernelspec": {
   "display_name": "Python 3",
   "language": "python",
   "name": "python3"
  },
  "language_info": {
   "codemirror_mode": {
    "name": "ipython",
    "version": 3
   },
   "file_extension": ".py",
   "mimetype": "text/x-python",
   "name": "python",
   "nbconvert_exporter": "python",
   "pygments_lexer": "ipython3",
   "version": "3.8.5"
  }
 },
 "nbformat": 4,
 "nbformat_minor": 4
}
